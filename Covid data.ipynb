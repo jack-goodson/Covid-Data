{
 "cells": [
  {
   "cell_type": "code",
   "execution_count": 2,
   "id": "guided-purse",
   "metadata": {},
   "outputs": [],
   "source": [
    "import lux\n",
    "import pandas as pd"
   ]
  },
  {
   "cell_type": "code",
   "execution_count": 3,
   "id": "talented-nation",
   "metadata": {},
   "outputs": [],
   "source": [
    "df = pd.read_csv(\"owid-covid-data.csv\")"
   ]
  },
  {
   "cell_type": "code",
   "execution_count": 4,
   "id": "funny-postcard",
   "metadata": {},
   "outputs": [
    {
     "name": "stderr",
     "output_type": "stream",
     "text": [
      "C:\\Users\\jackm\\anaconda3\\envs\\dev\\lib\\site-packages\\lux\\executor\\PandasExecutor.py:401: UserWarning:\n",
      "Lux detects that the attribute 'date' may be temporal.\n",
      "To display visualizations for these attributes accurately, please convert temporal attributes to Pandas Datetime objects using the pd.to_datetime function and provide a 'format' parameter to specify the datetime format of the attribute.\n",
      "For example, you can convert a year-only attribute (e.g., 1998, 1971, 1982) to Datetime type by specifying the `format` as '%Y'.\n",
      "\n",
      "Here is a starter template that you can use for converting the temporal fields:\n",
      "\tdf['date'] = pd.to_datetime(df['date'], format='<replace-with-datetime-format>')\n",
      "\n",
      "See more at: https://pandas.pydata.org/pandas-docs/stable/reference/api/pandas.to_datetime.html\n",
      "If date is not a temporal attribute, please use override Lux's automatically detected type:\n",
      "\tdf.set_data_type({'date':'quantitative'})\n",
      "C:\\Users\\jackm\\anaconda3\\envs\\dev\\lib\\site-packages\\lux\\interestingness\\interestingness.py:166: UserWarning:An error occurred when computing interestingness for: <Vis  (x: handwashing_facilities, y: weekly_hosp_admissions_per_million) mark: scatter, score: 0.0 >\n",
      "C:\\Users\\jackm\\anaconda3\\envs\\dev\\lib\\site-packages\\lux\\interestingness\\interestingness.py:166: UserWarning:An error occurred when computing interestingness for: <Vis  (x: handwashing_facilities, y: weekly_icu_admissions) mark: scatter, score: 0.0 >\n",
      "C:\\Users\\jackm\\anaconda3\\envs\\dev\\lib\\site-packages\\lux\\interestingness\\interestingness.py:166: UserWarning:An error occurred when computing interestingness for: <Vis  (x: handwashing_facilities, y: hosp_patients) mark: scatter, score: 0.0 >\n",
      "C:\\Users\\jackm\\anaconda3\\envs\\dev\\lib\\site-packages\\lux\\interestingness\\interestingness.py:166: UserWarning:An error occurred when computing interestingness for: <Vis  (x: handwashing_facilities, y: icu_patients_per_million) mark: scatter, score: 0.0 >\n",
      "C:\\Users\\jackm\\anaconda3\\envs\\dev\\lib\\site-packages\\lux\\interestingness\\interestingness.py:166: UserWarning:An error occurred when computing interestingness for: <Vis  (x: handwashing_facilities, y: icu_patients) mark: scatter, score: 0.0 >\n",
      "C:\\Users\\jackm\\anaconda3\\envs\\dev\\lib\\site-packages\\lux\\interestingness\\interestingness.py:166: UserWarning:An error occurred when computing interestingness for: <Vis  (x: handwashing_facilities, y: weekly_icu_admissions_per_million) mark: scatter, score: 0.0 >\n",
      "C:\\Users\\jackm\\anaconda3\\envs\\dev\\lib\\site-packages\\lux\\interestingness\\interestingness.py:166: UserWarning:An error occurred when computing interestingness for: <Vis  (x: handwashing_facilities, y: weekly_hosp_admissions) mark: scatter, score: 0.0 >\n",
      "C:\\Users\\jackm\\anaconda3\\envs\\dev\\lib\\site-packages\\lux\\interestingness\\interestingness.py:166: UserWarning:An error occurred when computing interestingness for: <Vis  (x: hosp_patients_per_million, y: handwashing_facilities) mark: scatter, score: 0.0 >\n"
     ]
    },
    {
     "data": {
      "application/vnd.jupyter.widget-view+json": {
       "model_id": "5742d3f08fa94a6fb363c3ad21cdc3e1",
       "version_major": 2,
       "version_minor": 0
      },
      "text/plain": [
       "Button(description='Toggle Pandas/Lux', layout=Layout(top='5px', width='140px'), style=ButtonStyle())"
      ]
     },
     "metadata": {},
     "output_type": "display_data"
    },
    {
     "data": {
      "application/vnd.jupyter.widget-view+json": {
       "model_id": "c6da00f4fa09434ca1a860fe1e8f5e4b",
       "version_major": 2,
       "version_minor": 0
      },
      "text/plain": [
       "Output()"
      ]
     },
     "metadata": {},
     "output_type": "display_data"
    },
    {
     "data": {
      "text/plain": []
     },
     "execution_count": 4,
     "metadata": {},
     "output_type": "execute_result"
    }
   ],
   "source": [
    "df"
   ]
  },
  {
   "cell_type": "code",
   "execution_count": null,
   "id": "czech-bloom",
   "metadata": {},
   "outputs": [],
   "source": []
  }
 ],
 "metadata": {
  "kernelspec": {
   "display_name": "Python 3",
   "language": "python",
   "name": "python3"
  },
  "language_info": {
   "codemirror_mode": {
    "name": "ipython",
    "version": 3
   },
   "file_extension": ".py",
   "mimetype": "text/x-python",
   "name": "python",
   "nbconvert_exporter": "python",
   "pygments_lexer": "ipython3",
   "version": "3.8.5"
  }
 },
 "nbformat": 4,
 "nbformat_minor": 5
}
